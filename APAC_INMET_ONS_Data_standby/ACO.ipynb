{
 "cells": [
  {
   "cell_type": "code",
   "execution_count": 2,
   "metadata": {},
   "outputs": [],
   "source": [
    "import numpy as np\n",
    "import random"
   ]
  },
  {
   "cell_type": "code",
   "execution_count": 8,
   "metadata": {},
   "outputs": [
    {
     "ename": "SyntaxError",
     "evalue": "unexpected EOF while parsing (<ipython-input-8-07bfac496dd3>, line 2)",
     "output_type": "error",
     "traceback": [
      "\u001b[1;36m  File \u001b[1;32m\"<ipython-input-8-07bfac496dd3>\"\u001b[1;36m, line \u001b[1;32m2\u001b[0m\n\u001b[1;33m    \u001b[0m\n\u001b[1;37m    ^\u001b[0m\n\u001b[1;31mSyntaxError\u001b[0m\u001b[1;31m:\u001b[0m unexpected EOF while parsing\n"
     ]
    }
   ],
   "source": [
    "class ACO(object):\n",
    "    \n",
    "    def __init__(self, alpha, beta, rho, Q):\n",
    "        self.alpha = alpha\n",
    "        self.beta = beta\n",
    "        self.rho = rho\n",
    "        \n",
    "    def set_space(Dmin, Dmax)    \n",
    "        \"\"\"\n",
    "        Dmin: mininal bounderies of Space\n",
    "        Dmax: maximal bounderies of Space\n",
    "        \"\"\"\n",
    "\n",
    "    def ACO(self, graph_points, ants_number=3, fitness_function):\n",
    "        \"\"\"\n",
    "        graph_points -> list of tuples, where each tuple is a point on the space, and the space dimension\n",
    "        is characterized by the tuples len.\n",
    "        \"\"\"\n",
    "\n",
    "        ants_x_state = random.choices(graph_points, k=ants_number)\n",
    "        ants_y_state = random.choices(graph_points, k=ants_number)\n",
    "\n",
    "        ants_xy_distance = np.zeros(ants_number)\n",
    "        dimension = len(ants_x_state[0])\n",
    "        for k in range(ants_number):\n",
    "            ants_xy_distance[k] = np.power(np.sum(np.array(ants_y_state[k])**dimension) -\\\n",
    "                                            np.sum(np.array(ants_x_state[k])**dimension), 1/dimension)\n",
    "\n",
    "        ants_x_state_fit = fitness_function(ants_x_state)\n",
    "        ants_y_state_fit = fitness_function(ants_y_state)\n",
    "\n",
    "        # Agora tem que comparar a transição XY com outras transições das outras formigas\n",
    "        # E aí depositar ferormônio nos pontos certos."
   ]
  }
 ],
 "metadata": {
  "kernelspec": {
   "display_name": "Python 3.7.6 64-bit",
   "language": "python",
   "name": "python37664bit63dcf13b85d2451d9301980ebfa33e17"
  },
  "language_info": {
   "codemirror_mode": {
    "name": "ipython",
    "version": 3
   },
   "file_extension": ".py",
   "mimetype": "text/x-python",
   "name": "python",
   "nbconvert_exporter": "python",
   "pygments_lexer": "ipython3",
   "version": "3.7.6"
  }
 },
 "nbformat": 4,
 "nbformat_minor": 2
}
